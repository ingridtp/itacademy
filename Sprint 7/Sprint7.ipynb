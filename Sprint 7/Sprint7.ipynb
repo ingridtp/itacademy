{
 "cells": [
  {
   "cell_type": "code",
   "execution_count": null,
   "id": "41d6d94d-4284-4371-bf35-44da580daae6",
   "metadata": {},
   "outputs": [],
   "source": []
  }
 ],
 "metadata": {
  "kernelspec": {
   "display_name": "",
   "name": ""
  },
  "language_info": {
   "name": ""
  }
 },
 "nbformat": 4,
 "nbformat_minor": 5
}
