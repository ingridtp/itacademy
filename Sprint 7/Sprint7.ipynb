{
 "cells": [
  {
   "cell_type": "markdown",
   "id": "f879f219-398f-4d9d-b592-74b5bda4f8dd",
   "metadata": {},
   "source": [
    "Nivel 1\n",
    "- Ejercicio 1\n",
    "    Calculadora del índice de masa corporal\n",
    "\n",
    "    Escribe una función que calcule el IMC ingresado por el usuario/a, es decir, quien lo ejecute deberá ingresar estos datos. Puedes obtener más información de su cálculo en:\n",
    "\n",
    "    -> Índice de masa corporal IMC que es y cómo se calcula.\n",
    "\n",
    "    La función debe clasificar el resultado en sus respectivas categorías\n"
   ]
  },
  {
   "cell_type": "code",
   "execution_count": 2,
   "id": "0f0b35a2",
   "metadata": {},
   "outputs": [],
   "source": [
    "#Calcular el IMC\n",
    "def calcular_imc(peso, talla):\n",
    "    return peso / (talla ** 2)\n",
    "\n",
    "#Clasificar el IMC\n",
    "def clasificar_imc(imc):\n",
    "    if imc < 18.5:\n",
    "        return \"Bajo peso\"\n",
    "    elif 18.5 <= imc < 25:\n",
    "        return \"Peso normal\"\n",
    "    elif 25 <= imc < 30:\n",
    "        return \"Sobrepeso\"\n",
    "    else:\n",
    "        return \"Obesidad\""
   ]
  },
  {
   "cell_type": "code",
   "execution_count": null,
   "id": "2d077789",
   "metadata": {},
   "outputs": [],
   "source": [
    "print(\"\\nCalculadora de IMC\")\n",
    "peso = float(input(\"Ingresa tu peso en kilogramos (kg): \"))\n",
    "talla = float(input(\"Ingresa tu altura en metros (m): \"))\n",
    "\n",
    "imc = calcular_imc(peso, talla)\n",
    "clasificacion = clasificar_imc(imc)\n",
    "\n",
    "print(f\"Tu IMC es: {imc:.2f}\")\n",
    "print(f\"Clasificación: {clasificacion}\")"
   ]
  },
  {
   "cell_type": "markdown",
   "id": "310fdb44-2bd3-42bd-97e0-6979f4f6c354",
   "metadata": {},
   "source": [
    "- Ejercicio 2\n",
    "Conversor de temperaturas.\n",
    "\n",
    "    Existen diversas unidades de temperatura utilizadas en distintos contextos y regiones. Las más comunes son Celsius (°C), Fahrenheit (°F) y Kelvin (K). También existen otras unidades como Rankine (°Ra) y Réaumur (°Re). Selecciona al menos 2 conversores, de modo que al introducir una temperatura devuelva, como mínimo, dos conversiones."
   ]
  },
  {
   "cell_type": "code",
   "execution_count": 3,
   "id": "d7e8b14e",
   "metadata": {},
   "outputs": [],
   "source": [
    "#Conversor de °C a °F\n",
    "def c_a_f(c):\n",
    "    return (c * 9/5) + 32\n",
    "\n",
    "#Conversor de °C a K\n",
    "def c_a_k(c):\n",
    "    return c + 273.15\n",
    "\n",
    "#Conversor de °F a °C\n",
    "def f_a_c(f):\n",
    "    return (f - 32) * 5/9\n",
    "\n",
    "#Conversor de °F a K\n",
    "def f_a_k(f):\n",
    "    return (f - 32) * 5/9 + 273.15"
   ]
  },
  {
   "cell_type": "code",
   "execution_count": null,
   "id": "b475055b",
   "metadata": {},
   "outputs": [],
   "source": [
    "while True:\n",
    "    print(\"\\nConversor de Temperatura\")\n",
    "    print(\"Selecciona la unidad de temperatura que vas a ingresar:\")\n",
    "    print(\"1. Celsius (°C)\")\n",
    "    print(\"2. Fahrenheit (°F)\")\n",
    "    print(\"3. Salir\")\n",
    "\n",
    "    opcion = input(\"Ingresa 1, 2 o 3 según tu elección: \")\n",
    "\n",
    "    if opcion == \"1\":\n",
    "        temp = float(input(\"Introduce la temperatura en °C: \"))\n",
    "        f = c_a_f(temp)\n",
    "        k = c_a_k(temp)\n",
    "        print(f\"{temp}°C equivalen a {f:.2f}°F y {k:.2f}K\")\n",
    "    elif opcion == \"2\":\n",
    "        temp = float(input(\"Introduce la temperatura en °F: \"))\n",
    "        c = f_a_c(temp)\n",
    "        k = f_a_k(temp)\n",
    "        print(f\"{temp}°F equivalen a {c:.2f}°C y {k:.2f}K\")\n",
    "    elif opcion == \"3\":\n",
    "        print(\"¡Gracias!\")\n",
    "        break  \n",
    "    else:\n",
    "        print(\"Opción no válida. Intenta nuevamente.\")    "
   ]
  },
  {
   "cell_type": "markdown",
   "id": "fc944e64-a046-4a0c-bbac-fd6a82614c75",
   "metadata": {},
   "source": [
    "- Ejercicio 3\n",
    "Contador de palabras de un texto.\n",
    "\n",
    "    Escribe una función que dado un texto, muestre las veces que aparece cada palabra."
   ]
  },
  {
   "cell_type": "code",
   "execution_count": 4,
   "id": "99d72329-e4e0-427c-819f-a06462964a4f",
   "metadata": {},
   "outputs": [],
   "source": [
    "#Contador de total de palabras\n",
    "def contar_palabras(texto):\n",
    "    palabras = texto.split()\n",
    "    return len(palabras)\n",
    "\n",
    "#Contador de palabras unicas\n",
    "def contar_unicas(texto):\n",
    "    palabras = texto.split()\n",
    "    return len(set(palabras))\n",
    "\n",
    "#Contador de repeticion de cada palabra\n",
    "def frecuencia_palabras(texto):\n",
    "    palabras = texto.split()\n",
    "    listado = {}\n",
    "    for palabra in palabras:\n",
    "        palabra = palabra.lower()\n",
    "        if palabra in listado:\n",
    "            listado[palabra] += 1\n",
    "        else:\n",
    "            listado[palabra] = 1\n",
    "    return listado"
   ]
  },
  {
   "cell_type": "code",
   "execution_count": null,
   "id": "a3234d6b",
   "metadata": {},
   "outputs": [],
   "source": [
    "print(\"Contador de palabras\")\n",
    "texto = input(\"Introduce un texto: \")\n",
    "\n",
    "palabras = contar_palabras(texto)\n",
    "unicas = contar_unicas(texto)\n",
    "frecuencias = frecuencia_palabras(texto)\n",
    "\n",
    "print(f\"\\nCantidad total de palabras: {palabras}\")\n",
    "print(f\"Cantidad de palabras únicas: {unicas}\\n\")\n",
    "print(\"Frecuencia de cada palabra:\")\n",
    "for palabra, cantidad in frecuencias.items():\n",
    "    print(f\"{palabra}: {cantidad}\")"
   ]
  },
  {
   "cell_type": "markdown",
   "id": "293d793e",
   "metadata": {},
   "source": [
    "- Ejercicio 4\n",
    "Diccionario inverso.\n",
    "\n",
    "Resulta que el cliente tiene una encuesta muy antigua que se almacena en un diccionario y los resultados los necesita a la inversa, es decir, intercambiados las claves y valores. Los valores y claves en el diccionario original son únicos; si éste no es el caso, la función debería imprimir un mensaje de advertencia."
   ]
  },
  {
   "cell_type": "code",
   "execution_count": 17,
   "id": "045b12a5",
   "metadata": {},
   "outputs": [],
   "source": [
    "# Encuestas (diccionarios de ejemplos)\n",
    "encuesta_2021 = {\n",
    "    \"Laura\": \"Pizza\",\n",
    "    \"Carlos\": \"Pasta\",\n",
    "    \"Marta\": \"Ensalada\"\n",
    "}\n",
    "\n",
    "encuesta_2022 = {\n",
    "    \"Laura\": \"Pizza\",\n",
    "    \"Carlos\": \"Pizza\",\n",
    "    \"Marta\": \"Ensalada\",\n",
    "    \"Sergio\": \"Pizza\",\n",
    "    \"Isabella\": \"Carne\",\n",
    "    \"Ana\": \"Ensalada\"\n",
    "}"
   ]
  },
  {
   "cell_type": "code",
   "execution_count": 12,
   "id": "31ceb099",
   "metadata": {},
   "outputs": [],
   "source": [
    "#Verificar valores unicos de un diccionario\n",
    "def valores_unicos(diccionario):\n",
    "    valores = list(diccionario.values())\n",
    "    return len(valores) == len(set(valores))\n",
    "\n",
    "#Invertir diccionario con valores unicos\n",
    "def invertir_diccionario(diccionario):\n",
    "    return {valor: clave for clave, valor in diccionario.items()}\n",
    "\n",
    "#Seleccionador de encuesta\n",
    "def seleccionar_encuesta():\n",
    "    print(\"Selecciona la encuesta a invertir:\")\n",
    "    print(\"1. Encuesta 2021\")\n",
    "    print(\"2. Encuesta 2022\")\n",
    "\n",
    "    opcion = input(\"Ingresa 1 o 2: \")\n",
    "\n",
    "    if opcion == \"1\":\n",
    "        return encuesta_2021\n",
    "    elif opcion == \"2\":\n",
    "        return encuesta_2022\n",
    "    else:\n",
    "        print(\"Opción no válida.\")\n",
    "        exit()  "
   ]
  },
  {
   "cell_type": "code",
   "execution_count": null,
   "id": "540bc7d4",
   "metadata": {},
   "outputs": [],
   "source": [
    "encuesta = seleccionar_encuesta()\n",
    "\n",
    "if valores_unicos(encuesta):\n",
    "    encuesta_invertida = invertir_diccionario(encuesta)\n",
    "    print(\"Diccionario invertido:\")\n",
    "    print(encuesta_invertida)\n",
    "    \n",
    "else:\n",
    "    print(\"Error: Valores repetidos. No se puede invertir el diccionario.\")"
   ]
  },
  {
   "cell_type": "markdown",
   "id": "10a1a443",
   "metadata": {},
   "source": [
    "\n",
    "Nivel 2\n",
    "\n",
    "\n",
    "Ejercicio 1\n",
    "Diccionario inverso con duplicados\n",
    "\n",
    "Continuando con el ejercicio 4 del nivel 1: al cliente se olvidó de comentar un detalle y resulta que los valores en el diccionario original pueden duplicarse y más, por lo que las claves intercambiadas pueden tener duplicados. En este caso, en el ejercicio anterior imprimías un mensaje de advertencia; de ser una lista."
   ]
  },
  {
   "cell_type": "code",
   "execution_count": 15,
   "id": "4e93278b",
   "metadata": {},
   "outputs": [],
   "source": [
    "def invertir_diccionario_pro(diccionario):\n",
    "    invertido = {}\n",
    "    for clave, valor in diccionario.items():\n",
    "        if valor in invertido:\n",
    "            invertido[valor].append(clave)\n",
    "        else:\n",
    "            invertido[valor] = [clave]\n",
    "    return invertido\n",
    "\n",
    "def desempaquetar(diccionario):\n",
    "    resultado = {}\n",
    "    for clave, valor in diccionario.items():\n",
    "        if isinstance(valor, list) and len(valor) == 1:\n",
    "            resultado[clave] = valor[0]\n",
    "        else:\n",
    "            resultado[clave] = valor\n",
    "    return resultado"
   ]
  },
  {
   "cell_type": "code",
   "execution_count": 19,
   "id": "10279713",
   "metadata": {},
   "outputs": [
    {
     "name": "stdout",
     "output_type": "stream",
     "text": [
      "Selecciona la encuesta a invertir:\n",
      "1. Encuesta 2021\n",
      "2. Encuesta 2022\n",
      "Diccionario invertido:\n",
      "{'Pizza': ['Laura', 'Carlos', 'Sergio'], 'Ensalada': ['Marta', 'Ana'], 'Carne': 'Isabella'}\n"
     ]
    }
   ],
   "source": [
    "encuesta = seleccionar_encuesta()\n",
    "encuesta_invertida = invertir_diccionario_pro(encuesta)\n",
    "encuesta_final = desempaquetar(encuesta_invertida)\n",
    "\n",
    "print(\"Diccionario invertido:\")\n",
    "print(encuesta_final)"
   ]
  }
 ],
 "metadata": {
  "kernelspec": {
   "display_name": "Python 3",
   "language": "python",
   "name": "python3"
  },
  "language_info": {
   "codemirror_mode": {
    "name": "ipython",
    "version": 3
   },
   "file_extension": ".py",
   "mimetype": "text/x-python",
   "name": "python",
   "nbconvert_exporter": "python",
   "pygments_lexer": "ipython3",
   "version": "3.13.3"
  }
 },
 "nbformat": 4,
 "nbformat_minor": 5
}
