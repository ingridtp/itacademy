{
 "cells": [
  {
   "cell_type": "markdown",
   "id": "f879f219-398f-4d9d-b592-74b5bda4f8dd",
   "metadata": {},
   "source": [
    "Nivel 1\n",
    "- Ejercicio 1\n",
    "    Calculadora del índice de masa corporal\n",
    "\n",
    "    Escribe una función que calcule el IMC ingresado por el usuario/a, es decir, quien lo ejecute deberá ingresar estos datos. Puedes obtener más información de su cálculo en:\n",
    "\n",
    "    -> Índice de masa corporal IMC que es y cómo se calcula.\n",
    "\n",
    "    La función debe clasificar el resultado en sus respectivas categorías\n"
   ]
  },
  {
   "cell_type": "code",
   "execution_count": null,
   "id": "0f0b35a2",
   "metadata": {},
   "outputs": [],
   "source": [
    "def calcular_imc(peso, talla):\n",
    "    return peso / (talla ** 2)\n",
    "\n",
    "def clasificar_imc(imc):\n",
    "    if imc < 18.5:\n",
    "        return \"Bajo peso\"\n",
    "    elif 18.5 <= imc < 25:\n",
    "        return \"Peso normal\"\n",
    "    elif 25 <= imc < 30:\n",
    "        return \"Sobrepeso\"\n",
    "    else:\n",
    "        return \"Obesidad\"\n",
    "\n",
    "print(\"\\nCalculadora de IMC\")\n",
    "peso = float(input(\"Ingresa tu peso en kilogramos (kg): \"))\n",
    "talla = float(input(\"Ingresa tu altura en metros (m): \"))\n",
    "\n",
    "imc = calcular_imc(peso, talla)\n",
    "clasificacion = clasificar_imc(imc)\n",
    "\n",
    "print(f\"Tu IMC es: {imc:.2f}\")\n",
    "print(f\"Clasificación: {clasificacion}\")"
   ]
  },
  {
   "cell_type": "markdown",
   "id": "310fdb44-2bd3-42bd-97e0-6979f4f6c354",
   "metadata": {},
   "source": [
    "- Ejercicio 2\n",
    "Conversor de temperaturas.\n",
    "\n",
    "    Existen diversas unidades de temperatura utilizadas en distintos contextos y regiones. Las más comunes son Celsius (°C), Fahrenheit (°F) y Kelvin (K). También existen otras unidades como Rankine (°Ra) y Réaumur (°Re). Selecciona al menos 2 conversores, de modo que al introducir una temperatura devuelva, como mínimo, dos conversiones."
   ]
  },
  {
   "cell_type": "code",
   "execution_count": null,
   "id": "d7e8b14e",
   "metadata": {},
   "outputs": [],
   "source": [
    "def c_a_f(c):\n",
    "    return (c * 9/5) + 32\n",
    "\n",
    "def c_a_k(c):\n",
    "    return c + 273.15\n",
    "\n",
    "def f_a_c(f):\n",
    "    return (f - 32) * 5/9\n",
    "\n",
    "def f_a_k(f):\n",
    "    return (f - 32) * 5/9 + 273.15\n",
    "\n",
    "while True:\n",
    "    print(\"\\nConversor de Temperatura\")\n",
    "    print(\"Selecciona la unidad de temperatura que vas a ingresar:\")\n",
    "    print(\"1. Celsius (°C)\")\n",
    "    print(\"2. Fahrenheit (°F)\")\n",
    "    print(\"3. Salir\")\n",
    "\n",
    "    opcion = input(\"Ingresa 1, 2 o 3 según tu elección: \")\n",
    "\n",
    "    if opcion == \"1\":\n",
    "        temp = float(input(\"Introduce la temperatura en °C: \"))\n",
    "        f = c_a_f(temp)\n",
    "        k = c_a_k(temp)\n",
    "        print(f\"{temp}°C equivalen a {f:.2f}°F y {k:.2f}K\")\n",
    "    elif opcion == \"2\":\n",
    "        temp = float(input(\"Introduce la temperatura en °F: \"))\n",
    "        c = f_a_c(temp)\n",
    "        k = f_a_k(temp)\n",
    "        print(f\"{temp}°F equivalen a {c:.2f}°C y {k:.2f}K\")\n",
    "    elif opcion == \"3\":\n",
    "        print(\"¡Gracias!\")\n",
    "        break  \n",
    "    else:\n",
    "        print(\"Opción no válida. Intenta nuevamente.\")    "
   ]
  },
  {
   "cell_type": "markdown",
   "id": "fc944e64-a046-4a0c-bbac-fd6a82614c75",
   "metadata": {},
   "source": [
    "- Ejercicio 3\n",
    "Contador de palabras de un texto.\n",
    "\n",
    "    Escribe una función que dado un texto, muestre las veces que aparece cada palabra."
   ]
  },
  {
   "cell_type": "code",
   "execution_count": 26,
   "id": "99d72329-e4e0-427c-819f-a06462964a4f",
   "metadata": {},
   "outputs": [
    {
     "name": "stdout",
     "output_type": "stream",
     "text": [
      "CONTADOR DE PALABRAS \n",
      "\n",
      "Cantidad total de palabras: 6\n",
      "Cantidad de palabras únicas: 5\n",
      "\n",
      "Frecuencia de cada palabra:\n",
      "tengo: 1\n",
      "mucho: 2\n",
      "sueño: 1\n",
      "y: 1\n",
      "cansancio: 1\n"
     ]
    }
   ],
   "source": [
    "def contar_palabras(texto):\n",
    "    palabras = texto.split()\n",
    "    return len(palabras)\n",
    "\n",
    "def contar_unicas(texto):\n",
    "    palabras = texto.split()\n",
    "    return len(set(palabras))\n",
    "\n",
    "def frecuencia_palabras(texto):\n",
    "    palabras = texto.split()\n",
    "    listado = {}\n",
    "    for palabra in palabras:\n",
    "        palabra = palabra.lower()\n",
    "        if palabra in listado:\n",
    "            listado[palabra] += 1\n",
    "        else:\n",
    "            listado[palabra] = 1\n",
    "    return listado\n",
    "\n",
    "print(\"CONTADOR DE PALABRAS \")\n",
    "texto = input(\"Introduce un texto: \")\n",
    "\n",
    "palabras = contar_palabras(texto)\n",
    "unicas = contar_unicas(texto)\n",
    "frecuencias = frecuencia_palabras(texto)\n",
    "\n",
    "print(f\"\\nCantidad total de palabras: {palabras}\")\n",
    "print(f\"Cantidad de palabras únicas: {unicas}\\n\")\n",
    "\n",
    "print(\"Frecuencia de cada palabra:\")\n",
    "for palabra, cantidad in frecuencias.items():\n",
    "    print(f\"{palabra}: {cantidad}\")"
   ]
  }
 ],
 "metadata": {
  "kernelspec": {
   "display_name": "Python 3",
   "language": "python",
   "name": "python3"
  },
  "language_info": {
   "codemirror_mode": {
    "name": "ipython",
    "version": 3
   },
   "file_extension": ".py",
   "mimetype": "text/x-python",
   "name": "python",
   "nbconvert_exporter": "python",
   "pygments_lexer": "ipython3",
   "version": "3.13.3"
  }
 },
 "nbformat": 4,
 "nbformat_minor": 5
}
