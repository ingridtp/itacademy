{
 "cells": [
  {
   "cell_type": "code",
   "execution_count": 43,
   "id": "9166cf50",
   "metadata": {},
   "outputs": [
    {
     "name": "stdout",
     "output_type": "stream",
     "text": [
      "Defaulting to user installation because normal site-packages is not writeable\n",
      "Requirement already satisfied: mysql-connector-python in c:\\users\\ingri\\appdata\\local\\packages\\pythonsoftwarefoundation.python.3.13_qbz5n2kfra8p0\\localcache\\local-packages\\python313\\site-packages (9.3.0)\n"
     ]
    }
   ],
   "source": [
    "!pip install mysql-connector-python"
   ]
  },
  {
   "cell_type": "code",
   "execution_count": 44,
   "id": "48d78cac",
   "metadata": {},
   "outputs": [
    {
     "name": "stdout",
     "output_type": "stream",
     "text": [
      "Defaulting to user installation because normal site-packages is not writeable\n",
      "Requirement already satisfied: pandas in c:\\users\\ingri\\appdata\\local\\packages\\pythonsoftwarefoundation.python.3.13_qbz5n2kfra8p0\\localcache\\local-packages\\python313\\site-packages (2.2.3)\n",
      "Requirement already satisfied: matplotlib in c:\\users\\ingri\\appdata\\local\\packages\\pythonsoftwarefoundation.python.3.13_qbz5n2kfra8p0\\localcache\\local-packages\\python313\\site-packages (3.10.3)\n",
      "Requirement already satisfied: seaborn in c:\\users\\ingri\\appdata\\local\\packages\\pythonsoftwarefoundation.python.3.13_qbz5n2kfra8p0\\localcache\\local-packages\\python313\\site-packages (0.13.2)\n",
      "Requirement already satisfied: numpy>=1.26.0 in c:\\users\\ingri\\appdata\\local\\packages\\pythonsoftwarefoundation.python.3.13_qbz5n2kfra8p0\\localcache\\local-packages\\python313\\site-packages (from pandas) (2.2.6)\n",
      "Requirement already satisfied: python-dateutil>=2.8.2 in c:\\users\\ingri\\appdata\\local\\packages\\pythonsoftwarefoundation.python.3.13_qbz5n2kfra8p0\\localcache\\local-packages\\python313\\site-packages (from pandas) (2.9.0.post0)\n",
      "Requirement already satisfied: pytz>=2020.1 in c:\\users\\ingri\\appdata\\local\\packages\\pythonsoftwarefoundation.python.3.13_qbz5n2kfra8p0\\localcache\\local-packages\\python313\\site-packages (from pandas) (2025.2)\n",
      "Requirement already satisfied: tzdata>=2022.7 in c:\\users\\ingri\\appdata\\local\\packages\\pythonsoftwarefoundation.python.3.13_qbz5n2kfra8p0\\localcache\\local-packages\\python313\\site-packages (from pandas) (2025.2)\n",
      "Requirement already satisfied: contourpy>=1.0.1 in c:\\users\\ingri\\appdata\\local\\packages\\pythonsoftwarefoundation.python.3.13_qbz5n2kfra8p0\\localcache\\local-packages\\python313\\site-packages (from matplotlib) (1.3.2)\n",
      "Requirement already satisfied: cycler>=0.10 in c:\\users\\ingri\\appdata\\local\\packages\\pythonsoftwarefoundation.python.3.13_qbz5n2kfra8p0\\localcache\\local-packages\\python313\\site-packages (from matplotlib) (0.12.1)\n",
      "Requirement already satisfied: fonttools>=4.22.0 in c:\\users\\ingri\\appdata\\local\\packages\\pythonsoftwarefoundation.python.3.13_qbz5n2kfra8p0\\localcache\\local-packages\\python313\\site-packages (from matplotlib) (4.58.1)\n",
      "Requirement already satisfied: kiwisolver>=1.3.1 in c:\\users\\ingri\\appdata\\local\\packages\\pythonsoftwarefoundation.python.3.13_qbz5n2kfra8p0\\localcache\\local-packages\\python313\\site-packages (from matplotlib) (1.4.8)\n",
      "Requirement already satisfied: packaging>=20.0 in c:\\users\\ingri\\appdata\\local\\packages\\pythonsoftwarefoundation.python.3.13_qbz5n2kfra8p0\\localcache\\local-packages\\python313\\site-packages (from matplotlib) (25.0)\n",
      "Requirement already satisfied: pillow>=8 in c:\\users\\ingri\\appdata\\local\\packages\\pythonsoftwarefoundation.python.3.13_qbz5n2kfra8p0\\localcache\\local-packages\\python313\\site-packages (from matplotlib) (11.2.1)\n",
      "Requirement already satisfied: pyparsing>=2.3.1 in c:\\users\\ingri\\appdata\\local\\packages\\pythonsoftwarefoundation.python.3.13_qbz5n2kfra8p0\\localcache\\local-packages\\python313\\site-packages (from matplotlib) (3.2.3)\n",
      "Requirement already satisfied: six>=1.5 in c:\\users\\ingri\\appdata\\local\\packages\\pythonsoftwarefoundation.python.3.13_qbz5n2kfra8p0\\localcache\\local-packages\\python313\\site-packages (from python-dateutil>=2.8.2->pandas) (1.17.0)\n"
     ]
    }
   ],
   "source": [
    "!pip install pandas matplotlib seaborn"
   ]
  },
  {
   "cell_type": "code",
   "execution_count": 26,
   "id": "16bc3fff",
   "metadata": {},
   "outputs": [],
   "source": [
    "import mysql.connector\n",
    "\n",
    "import pandas as pd\n",
    "import matplotlib.pyplot as plt\n",
    "import seaborn as sns"
   ]
  },
  {
   "cell_type": "markdown",
   "id": "5d142021",
   "metadata": {},
   "source": [
    "Nivel 1\n",
    "\n",
    "Realiza la conexión en Python con MySQL Workbench para cargar toda la información que tienes en las tablas.\n",
    "\n",
    "Realizarás una visualización para cada ejercicio. Comenta lo que llama la atención de graficar esta variable, justifica la elección del gráfico e interpreta los resultados en función de tus datos.\n"
   ]
  },
  {
   "cell_type": "code",
   "execution_count": 66,
   "id": "caf31df9",
   "metadata": {},
   "outputs": [
    {
     "name": "stdout",
     "output_type": "stream",
     "text": [
      "✅ Conexión exitosa a la base de datos.\n"
     ]
    }
   ],
   "source": [
    "try:\n",
    "    conexion = mysql.connector.connect(\n",
    "        host='localhost',\n",
    "        user='root',\n",
    "        password='D4705.mySQL',\n",
    "        database='sprint4')\n",
    "\n",
    "    cursor = conexion.cursor()\n",
    "    print(\"✅ Conexión exitosa a la base de datos.\")\n",
    "\n",
    "    # Función para cargar tablas\n",
    "    def cargar_tabla(nombre_tabla):\n",
    "        cursor.execute(f\"SELECT * FROM {nombre_tabla}\")\n",
    "        return pd.DataFrame(cursor.fetchall(), columns=[col[0] for col in cursor.description])\n",
    "\n",
    "    # Cargar tablas\n",
    "    df_company = cargar_tabla(\"company\")\n",
    "    df_user = cargar_tabla(\"user\")\n",
    "    df_credit_card = cargar_tabla(\"credit_card\")\n",
    "    df_card_status = cargar_tabla(\"card_status\")\n",
    "    df_product = cargar_tabla(\"product\")\n",
    "    df_transaction = cargar_tabla(\"transaction\")\n",
    "    df_transaction_product = cargar_tabla(\"transaction_product\")\n",
    "\n",
    "    cursor.close()\n",
    "    conexion.close()\n",
    "\n",
    "except mysql.connector.Error as err:\n",
    "    print(f\"❌ Error de conexión a la base de datos: {err}\")\n",
    "\n",
    "\n",
    "cursor.close()\n",
    "conexion.close()"
   ]
  },
  {
   "cell_type": "code",
   "execution_count": 67,
   "id": "e5955d77",
   "metadata": {},
   "outputs": [
    {
     "data": {
      "text/plain": [
       "comp_id         string[python]\n",
       "comp_name       string[python]\n",
       "comp_country    string[python]\n",
       "comp_phone      string[python]\n",
       "comp_email      string[python]\n",
       "comp_website    string[python]\n",
       "dtype: object"
      ]
     },
     "execution_count": 67,
     "metadata": {},
     "output_type": "execute_result"
    }
   ],
   "source": [
    "cols_a_string = [\"comp_id\", \"comp_name\", \"comp_country\",\"comp_phone\", \"comp_email\", \"comp_website\"]\n",
    "df_company[cols_a_string] = df_company[cols_a_string].astype(\"string\")\n",
    "\n",
    "df_company.dtypes"
   ]
  },
  {
   "cell_type": "code",
   "execution_count": 68,
   "id": "c6b5ee43",
   "metadata": {},
   "outputs": [
    {
     "data": {
      "text/plain": [
       "user_id                      int64\n",
       "user_name           string[python]\n",
       "user_surname        string[python]\n",
       "user_phone          string[python]\n",
       "user_email          string[python]\n",
       "user_birth_date     datetime64[ns]\n",
       "user_country        string[python]\n",
       "user_city           string[python]\n",
       "user_postal_code    string[python]\n",
       "user_address        string[python]\n",
       "dtype: object"
      ]
     },
     "execution_count": 68,
     "metadata": {},
     "output_type": "execute_result"
    }
   ],
   "source": [
    "df_user[\"user_birth_date\"] = pd.to_datetime(df_user[\"user_birth_date\"], errors=\"coerce\")\n",
    "\n",
    "cols_a_string = [\"user_name\", \"user_surname\", \"user_phone\", \"user_email\",\"user_country\", \"user_city\", \"user_postal_code\", \"user_address\"]\n",
    "df_user[cols_a_string] = df_user[cols_a_string].astype(\"string\")\n",
    "\n",
    "df_user.dtypes"
   ]
  },
  {
   "cell_type": "code",
   "execution_count": null,
   "id": "b3526240",
   "metadata": {},
   "outputs": [
    {
     "data": {
      "text/plain": [
       "card_id               string[python]\n",
       "card_iban             string[python]\n",
       "card_pan              string[python]\n",
       "card_pin              string[python]\n",
       "card_cvv              string[python]\n",
       "card_track1           string[python]\n",
       "card_track2           string[python]\n",
       "card_expiring_date    datetime64[ns]\n",
       "dtype: object"
      ]
     },
     "execution_count": 52,
     "metadata": {},
     "output_type": "execute_result"
    }
   ],
   "source": [
    "df_credit_card[\"card_expiring_date\"] = pd.to_datetime(df_credit_card[\"card_expiring_date\"], errors=\"coerce\")\n",
    "\n",
    "cols_a_string = [\"card_id\", \"card_iban\", \"card_pan\",\"card_pin\", \"card_cvv\", \"card_track1\", \"card_track2\"]\n",
    "df_credit_card[cols_a_string] = df_credit_card[cols_a_string].astype(\"string\")\n",
    "\n",
    "df_credit_card.dtypes"
   ]
  },
  {
   "cell_type": "code",
   "execution_count": 69,
   "id": "e273c8c8",
   "metadata": {},
   "outputs": [
    {
     "data": {
      "text/plain": [
       "card_id    string[python]\n",
       "status            boolean\n",
       "dtype: object"
      ]
     },
     "execution_count": 69,
     "metadata": {},
     "output_type": "execute_result"
    }
   ],
   "source": [
    "df_card_status[\"status\"] = df_card_status[\"status\"].astype(\"boolean\")\n",
    "df_card_status[\"card_id\"] = df_card_status[\"card_id\"].astype(\"string\")\n",
    "\n",
    "df_card_status.dtypes"
   ]
  },
  {
   "cell_type": "code",
   "execution_count": 70,
   "id": "515dc7fa",
   "metadata": {},
   "outputs": [
    {
     "data": {
      "text/plain": [
       "prod_id                       int64\n",
       "prod_name            string[python]\n",
       "prod_price                  float64\n",
       "prod_colour          string[python]\n",
       "prod_weight                 float64\n",
       "prod_warehouse_id    string[python]\n",
       "dtype: object"
      ]
     },
     "execution_count": 70,
     "metadata": {},
     "output_type": "execute_result"
    }
   ],
   "source": [
    "cols_a_string = [\"prod_name\", \"prod_colour\", \"prod_warehouse_id\"]\n",
    "df_product[cols_a_string] = df_product[cols_a_string].astype(\"string\")\n",
    "\n",
    "df_product[\"prod_price\"] = pd.to_numeric(df_product[\"prod_price\"], errors=\"coerce\").round(2)\n",
    "df_product[\"prod_weight\"] = pd.to_numeric(df_product[\"prod_weight\"], errors=\"coerce\").round(2)\n",
    "\n",
    "df_product.dtypes"
   ]
  },
  {
   "cell_type": "code",
   "execution_count": 71,
   "id": "8b133aa5",
   "metadata": {},
   "outputs": [
    {
     "data": {
      "text/plain": [
       "tran_id           string[python]\n",
       "card_id           string[python]\n",
       "comp_id           string[python]\n",
       "user_id                    int64\n",
       "tran_timestamp    datetime64[ns]\n",
       "tran_amount              float64\n",
       "tran_decline             boolean\n",
       "tran_lat                 float64\n",
       "tran_longitude           float64\n",
       "dtype: object"
      ]
     },
     "execution_count": 71,
     "metadata": {},
     "output_type": "execute_result"
    }
   ],
   "source": [
    "cols_id = [\"tran_id\", \"card_id\", \"comp_id\"]\n",
    "df_transaction[cols_id] = df_transaction[cols_id].astype(\"string\")\n",
    "\n",
    "df_transaction[\"tran_timestamp\"] = pd.to_datetime(df_transaction[\"tran_timestamp\"], errors=\"coerce\")\n",
    "df_transaction[\"tran_amount\"] = pd.to_numeric(df_transaction[\"tran_amount\"], errors=\"coerce\").round(2)\n",
    "df_transaction[\"tran_decline\"] = df_transaction[\"tran_decline\"].astype(\"boolean\")\n",
    "\n",
    "df_transaction.dtypes"
   ]
  },
  {
   "cell_type": "code",
   "execution_count": 72,
   "id": "3e7274e7",
   "metadata": {},
   "outputs": [
    {
     "data": {
      "text/plain": [
       "tran_id    string[python]\n",
       "prod_id             int64\n",
       "dtype: object"
      ]
     },
     "execution_count": 72,
     "metadata": {},
     "output_type": "execute_result"
    }
   ],
   "source": [
    "df_transaction_product[\"tran_id\"] = df_transaction_product[\"tran_id\"].astype(\"string\")\n",
    "\n",
    "df_transaction_product.dtypes"
   ]
  },
  {
   "cell_type": "code",
   "execution_count": 73,
   "id": "3b3cb05e",
   "metadata": {},
   "outputs": [],
   "source": [
    "color_columna = \"#1b435f\"     \n",
    "color_borde = \"#0f2a3b\" "
   ]
  },
  {
   "cell_type": "markdown",
   "id": "c39526fa",
   "metadata": {},
   "source": [
    "\n",
    "- Ejercicio 1\n",
    "Una variable numérica."
   ]
  },
  {
   "cell_type": "code",
   "execution_count": 75,
   "id": "60a48c4a",
   "metadata": {},
   "outputs": [
    {
     "data": {
      "image/png": "[encoded data removed]",
      "text/plain": [
       "<Figure size 1000x500 with 1 Axes>"
      ]
     },
     "metadata": {},
     "output_type": "display_data"
    }
   ],
   "source": [
    "\n",
    "plt.figure(figsize=(10, 5))\n",
    "\n",
    "sns.histplot(\n",
    "    df_product[\"prod_price\"],\n",
    "    bins=20,\n",
    "    color=color_columna,\n",
    "    edgecolor=color_borde,\n",
    "    alpha=0.6)\n",
    "\n",
    "plt.title(\"Distribución de precios de productos\")\n",
    "plt.xlabel(\"Precio\")\n",
    "plt.ylabel(\"Frecuencia\")\n",
    "plt.show()"
   ]
  },
  {
   "cell_type": "markdown",
   "id": "d3778631",
   "metadata": {},
   "source": [
    "- Ejercicio 2\n",
    "Dos variables numéricas."
   ]
  },
  {
   "cell_type": "code",
   "execution_count": null,
   "id": "ae25aac8",
   "metadata": {},
   "outputs": [],
   "source": []
  },
  {
   "cell_type": "markdown",
   "id": "64942658",
   "metadata": {},
   "source": [
    "- Ejercicio 3\n",
    "Una variable categórica.\n"
   ]
  },
  {
   "cell_type": "code",
   "execution_count": null,
   "id": "205dda4f",
   "metadata": {},
   "outputs": [],
   "source": []
  },
  {
   "cell_type": "markdown",
   "id": "5c3efa45",
   "metadata": {},
   "source": [
    "- Ejercicio 4\n",
    "Una variable categórica y una numérica."
   ]
  },
  {
   "cell_type": "code",
   "execution_count": null,
   "id": "064615bf",
   "metadata": {},
   "outputs": [],
   "source": []
  },
  {
   "cell_type": "markdown",
   "id": "2ac3a04c",
   "metadata": {},
   "source": [
    "- Ejercicio 5\n",
    "Dos variables categóricas.\n"
   ]
  },
  {
   "cell_type": "code",
   "execution_count": null,
   "id": "26d1a7d5",
   "metadata": {},
   "outputs": [],
   "source": []
  },
  {
   "cell_type": "markdown",
   "id": "2ddb20dc",
   "metadata": {},
   "source": [
    "- Ejercicio 6\n",
    "Tres variables."
   ]
  },
  {
   "cell_type": "code",
   "execution_count": null,
   "id": "cefad993",
   "metadata": {},
   "outputs": [],
   "source": []
  },
  {
   "cell_type": "markdown",
   "id": "57cf83a2",
   "metadata": {},
   "source": [
    "- Ejercicio 7\n",
    "Graficar un Pairplot.\n"
   ]
  },
  {
   "cell_type": "code",
   "execution_count": null,
   "id": "ce6bb2c3",
   "metadata": {},
   "outputs": [],
   "source": []
  },
  {
   "cell_type": "markdown",
   "id": "5d5b16f3",
   "metadata": {},
   "source": [
    "Nivel 2\n",
    "Ejercicio 1\n",
    "Correlación de todas las variables numéricas.\n"
   ]
  },
  {
   "cell_type": "code",
   "execution_count": null,
   "id": "9a697d4b",
   "metadata": {},
   "outputs": [],
   "source": []
  },
  {
   "cell_type": "markdown",
   "id": "b3cfd87f",
   "metadata": {},
   "source": [
    "Ejercicio 2\n",
    "Implementa un jointplot.\n"
   ]
  },
  {
   "cell_type": "code",
   "execution_count": null,
   "id": "c4662c1a",
   "metadata": {},
   "outputs": [],
   "source": []
  },
  {
   "cell_type": "markdown",
   "id": "c693a524",
   "metadata": {},
   "source": [
    "Nivel 3\n",
    "Ejercicio 1\n",
    "Implementa un violinplot combinado con otro tipo de gráfico."
   ]
  },
  {
   "cell_type": "code",
   "execution_count": null,
   "id": "a002a0df",
   "metadata": {},
   "outputs": [],
   "source": []
  },
  {
   "cell_type": "markdown",
   "id": "bcd11de0",
   "metadata": {},
   "source": [
    "Ejercicio 2\n",
    "Genera un FacetGrid para visualizar múltiples aspectos de datos simultáneamente."
   ]
  },
  {
   "cell_type": "markdown",
   "id": "4b87af2d",
   "metadata": {},
   "source": []
  }
 ],
 "metadata": {
  "kernelspec": {
   "display_name": "Python 3",
   "language": "python",
   "name": "python3"
  },
  "language_info": {
   "codemirror_mode": {
    "name": "ipython",
    "version": 3
   },
   "file_extension": ".py",
   "mimetype": "text/x-python",
   "name": "python",
   "nbconvert_exporter": "python",
   "pygments_lexer": "ipython3",
   "version": "3.13.3"
  }
 },
 "nbformat": 4,
 "nbformat_minor": 5
}
