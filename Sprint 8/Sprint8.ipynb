{
 "cells": [
  {
   "cell_type": "code",
   "execution_count": 7,
   "id": "9166cf50",
   "metadata": {},
   "outputs": [
    {
     "name": "stdout",
     "output_type": "stream",
     "text": [
      "Defaulting to user installation because normal site-packages is not writeable\n",
      "Note: you may need to restart the kernel to use updated packages.\n"
     ]
    },
    {
     "name": "stderr",
     "output_type": "stream",
     "text": [
      "ERROR: Invalid requirement: '#Instalar': Expected package name at the start of dependency specifier\n",
      "    #Instalar\n",
      "    ^\n"
     ]
    }
   ],
   "source": [
    "pip install mysql-connector-python #Instalar el módulo conector MySQL"
   ]
  },
  {
   "cell_type": "code",
   "execution_count": 16,
   "id": "48d78cac",
   "metadata": {},
   "outputs": [
    {
     "name": "stdout",
     "output_type": "stream",
     "text": [
      "Defaulting to user installation because normal site-packages is not writeable\n",
      "Requirement already satisfied: pandas in c:\\users\\ingri\\appdata\\local\\packages\\pythonsoftwarefoundation.python.3.13_qbz5n2kfra8p0\\localcache\\local-packages\\python313\\site-packages (2.2.3)\n",
      "Requirement already satisfied: matplotlib in c:\\users\\ingri\\appdata\\local\\packages\\pythonsoftwarefoundation.python.3.13_qbz5n2kfra8p0\\localcache\\local-packages\\python313\\site-packages (3.10.3)\n",
      "Requirement already satisfied: seaborn in c:\\users\\ingri\\appdata\\local\\packages\\pythonsoftwarefoundation.python.3.13_qbz5n2kfra8p0\\localcache\\local-packages\\python313\\site-packages (0.13.2)\n",
      "Requirement already satisfied: numpy>=1.26.0 in c:\\users\\ingri\\appdata\\local\\packages\\pythonsoftwarefoundation.python.3.13_qbz5n2kfra8p0\\localcache\\local-packages\\python313\\site-packages (from pandas) (2.2.6)\n",
      "Requirement already satisfied: python-dateutil>=2.8.2 in c:\\users\\ingri\\appdata\\local\\packages\\pythonsoftwarefoundation.python.3.13_qbz5n2kfra8p0\\localcache\\local-packages\\python313\\site-packages (from pandas) (2.9.0.post0)\n",
      "Requirement already satisfied: pytz>=2020.1 in c:\\users\\ingri\\appdata\\local\\packages\\pythonsoftwarefoundation.python.3.13_qbz5n2kfra8p0\\localcache\\local-packages\\python313\\site-packages (from pandas) (2025.2)\n",
      "Requirement already satisfied: tzdata>=2022.7 in c:\\users\\ingri\\appdata\\local\\packages\\pythonsoftwarefoundation.python.3.13_qbz5n2kfra8p0\\localcache\\local-packages\\python313\\site-packages (from pandas) (2025.2)\n",
      "Requirement already satisfied: contourpy>=1.0.1 in c:\\users\\ingri\\appdata\\local\\packages\\pythonsoftwarefoundation.python.3.13_qbz5n2kfra8p0\\localcache\\local-packages\\python313\\site-packages (from matplotlib) (1.3.2)\n",
      "Requirement already satisfied: cycler>=0.10 in c:\\users\\ingri\\appdata\\local\\packages\\pythonsoftwarefoundation.python.3.13_qbz5n2kfra8p0\\localcache\\local-packages\\python313\\site-packages (from matplotlib) (0.12.1)\n",
      "Requirement already satisfied: fonttools>=4.22.0 in c:\\users\\ingri\\appdata\\local\\packages\\pythonsoftwarefoundation.python.3.13_qbz5n2kfra8p0\\localcache\\local-packages\\python313\\site-packages (from matplotlib) (4.58.1)\n",
      "Requirement already satisfied: kiwisolver>=1.3.1 in c:\\users\\ingri\\appdata\\local\\packages\\pythonsoftwarefoundation.python.3.13_qbz5n2kfra8p0\\localcache\\local-packages\\python313\\site-packages (from matplotlib) (1.4.8)\n",
      "Requirement already satisfied: packaging>=20.0 in c:\\users\\ingri\\appdata\\local\\packages\\pythonsoftwarefoundation.python.3.13_qbz5n2kfra8p0\\localcache\\local-packages\\python313\\site-packages (from matplotlib) (25.0)\n",
      "Requirement already satisfied: pillow>=8 in c:\\users\\ingri\\appdata\\local\\packages\\pythonsoftwarefoundation.python.3.13_qbz5n2kfra8p0\\localcache\\local-packages\\python313\\site-packages (from matplotlib) (11.2.1)\n",
      "Requirement already satisfied: pyparsing>=2.3.1 in c:\\users\\ingri\\appdata\\local\\packages\\pythonsoftwarefoundation.python.3.13_qbz5n2kfra8p0\\localcache\\local-packages\\python313\\site-packages (from matplotlib) (3.2.3)\n",
      "Requirement already satisfied: six>=1.5 in c:\\users\\ingri\\appdata\\local\\packages\\pythonsoftwarefoundation.python.3.13_qbz5n2kfra8p0\\localcache\\local-packages\\python313\\site-packages (from python-dateutil>=2.8.2->pandas) (1.17.0)\n"
     ]
    }
   ],
   "source": [
    "!pip install pandas matplotlib seaborn"
   ]
  },
  {
   "cell_type": "code",
   "execution_count": null,
   "id": "16bc3fff",
   "metadata": {},
   "outputs": [],
   "source": [
    "import mysql.connector #Importar módulo de conector MySQL\n",
    "\n",
    "import pandas as pd\n",
    "import matplotlib.pyplot as plt\n",
    "import seaborn as sns"
   ]
  },
  {
   "cell_type": "markdown",
   "id": "5d142021",
   "metadata": {},
   "source": [
    "Nivel 1\n",
    "\n",
    "Realiza la conexión en Python con MySQL Workbench para cargar toda la información que tienes en las tablas.\n",
    "\n",
    "Realizarás una visualización para cada ejercicio. Comenta lo que llama la atención de graficar esta variable, justifica la elección del gráfico e interpreta los resultados en función de tus datos.\n"
   ]
  },
  {
   "cell_type": "code",
   "execution_count": 18,
   "id": "caf31df9",
   "metadata": {},
   "outputs": [
    {
     "name": "stdout",
     "output_type": "stream",
     "text": [
      "✅ Conectado correctamente a la base de datos 'sprint4'\n",
      "✅ Cursor creado correctamente\n"
     ]
    }
   ],
   "source": [
    "#Estableciendo conección\n",
    "conexion = mysql.connector.connect(\n",
    "    host='localhost',\n",
    "    user='root',\n",
    "    password='D4705.mySQL',\n",
    "    database='sprint4')\n",
    "\n",
    "if conexion.is_connected():\n",
    "    print(\"✅ Conectado correctamente a la base de datos 'sprint4'\")\n",
    "\n",
    "#Crear cursor\n",
    "cursor = conexion.cursor()\n",
    "print(\"✅ Cursor creado correctamente\")\n"
   ]
  },
  {
   "cell_type": "markdown",
   "id": "c39526fa",
   "metadata": {},
   "source": [
    "\n",
    "- Ejercicio 1\n",
    "Una variable numérica."
   ]
  },
  {
   "cell_type": "code",
   "execution_count": null,
   "id": "212620e1",
   "metadata": {},
   "outputs": [],
   "source": []
  },
  {
   "cell_type": "code",
   "execution_count": null,
   "id": "789cb723",
   "metadata": {},
   "outputs": [],
   "source": []
  },
  {
   "cell_type": "markdown",
   "id": "d3778631",
   "metadata": {},
   "source": [
    "- Ejercicio 2\n",
    "Dos variables numéricas."
   ]
  },
  {
   "cell_type": "code",
   "execution_count": null,
   "id": "a20e9112",
   "metadata": {},
   "outputs": [],
   "source": []
  },
  {
   "cell_type": "markdown",
   "id": "64942658",
   "metadata": {},
   "source": [
    "- Ejercicio 3\n",
    "Una variable categórica.\n"
   ]
  },
  {
   "cell_type": "code",
   "execution_count": null,
   "id": "205dda4f",
   "metadata": {},
   "outputs": [],
   "source": []
  },
  {
   "cell_type": "markdown",
   "id": "5c3efa45",
   "metadata": {},
   "source": [
    "- Ejercicio 4\n",
    "Una variable categórica y una numérica."
   ]
  },
  {
   "cell_type": "code",
   "execution_count": null,
   "id": "064615bf",
   "metadata": {},
   "outputs": [],
   "source": []
  },
  {
   "cell_type": "markdown",
   "id": "2ac3a04c",
   "metadata": {},
   "source": [
    "- Ejercicio 5\n",
    "Dos variables categóricas.\n"
   ]
  },
  {
   "cell_type": "code",
   "execution_count": null,
   "id": "26d1a7d5",
   "metadata": {},
   "outputs": [],
   "source": []
  },
  {
   "cell_type": "markdown",
   "id": "2ddb20dc",
   "metadata": {},
   "source": [
    "- Ejercicio 6\n",
    "Tres variables."
   ]
  },
  {
   "cell_type": "code",
   "execution_count": null,
   "id": "cefad993",
   "metadata": {},
   "outputs": [],
   "source": []
  },
  {
   "cell_type": "markdown",
   "id": "57cf83a2",
   "metadata": {},
   "source": [
    "- Ejercicio 7\n",
    "Graficar un Pairplot.\n"
   ]
  },
  {
   "cell_type": "code",
   "execution_count": null,
   "id": "ce6bb2c3",
   "metadata": {},
   "outputs": [],
   "source": []
  },
  {
   "cell_type": "markdown",
   "id": "5d5b16f3",
   "metadata": {},
   "source": [
    "Nivel 2\n",
    "Ejercicio 1\n",
    "Correlación de todas las variables numéricas.\n"
   ]
  },
  {
   "cell_type": "code",
   "execution_count": null,
   "id": "9a697d4b",
   "metadata": {},
   "outputs": [],
   "source": []
  },
  {
   "cell_type": "markdown",
   "id": "b3cfd87f",
   "metadata": {},
   "source": [
    "Ejercicio 2\n",
    "Implementa un jointplot.\n"
   ]
  },
  {
   "cell_type": "code",
   "execution_count": null,
   "id": "c4662c1a",
   "metadata": {},
   "outputs": [],
   "source": []
  },
  {
   "cell_type": "markdown",
   "id": "c693a524",
   "metadata": {},
   "source": [
    "Nivel 3\n",
    "Ejercicio 1\n",
    "Implementa un violinplot combinado con otro tipo de gráfico."
   ]
  },
  {
   "cell_type": "code",
   "execution_count": null,
   "id": "a002a0df",
   "metadata": {},
   "outputs": [],
   "source": []
  },
  {
   "cell_type": "markdown",
   "id": "bcd11de0",
   "metadata": {},
   "source": [
    "Ejercicio 2\n",
    "Genera un FacetGrid para visualizar múltiples aspectos de datos simultáneamente."
   ]
  },
  {
   "cell_type": "markdown",
   "id": "4b87af2d",
   "metadata": {},
   "source": []
  },
  {
   "cell_type": "code",
   "execution_count": 20,
   "id": "71a007cf",
   "metadata": {},
   "outputs": [
    {
     "name": "stdout",
     "output_type": "stream",
     "text": [
      "🔒 Conexión cerrada\n"
     ]
    }
   ],
   "source": [
    "cursor.close()\n",
    "conexion.close()\n",
    "print(\"🔒 Conexión cerrada\")"
   ]
  }
 ],
 "metadata": {
  "kernelspec": {
   "display_name": "Python 3",
   "language": "python",
   "name": "python3"
  },
  "language_info": {
   "codemirror_mode": {
    "name": "ipython",
    "version": 3
   },
   "file_extension": ".py",
   "mimetype": "text/x-python",
   "name": "python",
   "nbconvert_exporter": "python",
   "pygments_lexer": "ipython3",
   "version": "3.13.3"
  }
 },
 "nbformat": 4,
 "nbformat_minor": 5
}
